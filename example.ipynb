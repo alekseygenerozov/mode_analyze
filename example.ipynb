{
 "cells": [
  {
   "cell_type": "code",
   "execution_count": null,
   "metadata": {},
   "outputs": [],
   "source": [
    "import mode_analyze\n",
    "reload(mode_analyze)\n",
    "%pylab inline"
   ]
  },
  {
   "cell_type": "code",
   "execution_count": null,
   "metadata": {
    "collapsed": true
   },
   "outputs": [],
   "source": [
    "#Setting up models\n",
    "model=mode_analyze.n3_poly()\n",
    "ma_3=mode_analyze.ModeAnalyzer(model,'poly_3/poly3.n', n_min=-18, n_max=10, ls=[2,3])\n",
    "\n",
    "model=mode_analyze.n32_poly()\n",
    "ma_32=mode_analyze.ModeAnalyzer(model,'poly_32/poly32.n', n_min=0, n_max=10, ls=[2,3])\n",
    "\n",
    "\n",
    "MM='1'\n",
    "loc='/home/aleksey/Dropbox/'\n",
    "base='{0}Msun_tau1_mesa/'.format(MM)\n",
    "prof=mode_analyze.prep_mesa(base)\n",
    "\n",
    "ma_3b=mode_analyze.ModeAnalyzer(prof, '/home/aleksey/Dropbox/gyre_work/1Msun_tau1/{0}Msun.n'.format(MM), -105, 10, [2])\n",
    "\n"
   ]
  },
  {
   "cell_type": "code",
   "execution_count": null,
   "metadata": {},
   "outputs": [],
   "source": [
    "from astropy.table import Table\n",
    "\n",
    "ns=range(-18, 11)\n",
    "nsb=range(-105, 11)\n",
    "ns=np.array(ns)\n",
    "nsb=np.array(nsb)\n",
    "\n",
    "ls=[2]\n",
    "#mode_summary_n3=np.empty([len(ns)*len(ls), 5])\n",
    "#mode_summary_n3b=np.empty([len(nsb)*len(ls), 5])\n",
    "\n",
    "fig,ax=plt.subplots(figsize=(10,9))\n",
    "ax.set_ylim(-5, 0.)\n",
    "ax.set_xlim(0.1, 20)\n",
    "ax.set_xlabel(r'$\\omega$')\n",
    "ax.set_ylabel('log(Q)')\n",
    "\n",
    "\n",
    "tags=[str(nn)+'_2' for nn in ns]\n",
    "omegas=np.array([ma_3.modes_dict[tt]['omega'] for tt in tags])\n",
    "Qs=np.array([ma_3.modes_dict[tt]['Q'] for tt in tags])\n",
    "semilogx(omegas, log10(Qs), 'ks-')\n",
    "\n",
    " \n",
    "##Qs from Lee&Ostriker1986    \n",
    "compare=[1.894e-3, 2.7e-3, 4.121e-3, 6.263e-3, 9.442e-3, 1.492e-2, 2.470e-2, \n",
    "         4.457e-2, 9.955e-2, 0.2372, 0.1226, 0.06163, 0.03498, 0.0211, 0.01322]\n",
    "semilogx(omegas[(ns>=-9) & (ns<=5)], log10(compare), 'rs', label='lee+ostriker1986')\n",
    "# ax.legend()\n",
    "\n"
   ]
  },
  {
   "cell_type": "code",
   "execution_count": null,
   "metadata": {
    "scrolled": true
   },
   "outputs": [],
   "source": [
    "##Comparing to tidal coupling constants from \n",
    "\n",
    "%pylab inline\n",
    "fig,ax=plt.subplots(figsize=(10,9))\n",
    "ax.set_xlabel(r'$\\eta$')\n",
    "ax.set_ylabel(r'$T(\\eta)$')\n",
    "\n",
    "\n",
    "dat=np.genfromtxt('coupling_n3.csv',delimiter=',')\n",
    "order=np.argsort(dat[:,0])\n",
    "\n",
    "loglog(ma_3.etas, ma_3.tidal_coupling(2), label='Lee&Ostriker1986')\n",
    "loglog(dat[:,0][order], dat[:,1][order], 'r--', label='Mode analyze')\n",
    "\n",
    "ax.legend()"
   ]
  },
  {
   "cell_type": "code",
   "execution_count": null,
   "metadata": {},
   "outputs": [],
   "source": [
    "%pylab inline\n",
    "fig,ax=plt.subplots(figsize=(10,9))\n",
    "ax.set_xlabel(r'$\\eta$')\n",
    "ax.set_ylabel(r'$T(\\eta)$')\n",
    "\n",
    "dat=np.genfromtxt('coupling_n32.csv',delimiter=',')\n",
    "order=np.argsort(dat[:,0])\n",
    "\n",
    "loglog(ma_32.etas, ma_32.tidal_coupling(2), label='Lee&Ostriker1986')\n",
    "loglog(dat[:,0][order], dat[:,1][order], 'r--', label='Mode analyze')\n",
    "\n",
    "ax.legend()"
   ]
  },
  {
   "cell_type": "code",
   "execution_count": null,
   "metadata": {
    "collapsed": true
   },
   "outputs": [],
   "source": []
  }
 ],
 "metadata": {
  "kernelspec": {
   "display_name": "Python 2",
   "language": "python",
   "name": "python2"
  },
  "language_info": {
   "codemirror_mode": {
    "name": "ipython",
    "version": 2
   },
   "file_extension": ".py",
   "mimetype": "text/x-python",
   "name": "python",
   "nbconvert_exporter": "python",
   "pygments_lexer": "ipython2",
   "version": "2.7.13"
  }
 },
 "nbformat": 4,
 "nbformat_minor": 2
}
