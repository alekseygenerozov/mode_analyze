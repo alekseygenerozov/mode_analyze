{
 "cells": [
  {
   "cell_type": "code",
   "execution_count": null,
   "metadata": {},
   "outputs": [],
   "source": [
    "import mode_analyze\n",
    "reload(mode_analyze)\n",
    "%pylab inline"
   ]
  },
  {
   "cell_type": "code",
   "execution_count": null,
   "metadata": {},
   "outputs": [],
   "source": [
    "#Setting up models\n",
    "model=mode_analyze.n3_poly()\n",
    "ma_3=mode_analyze.ModeAnalyzer(model,'poly_3/poly3.n', n_min=-18, n_max=10, ls=[2,3])\n",
    "\n",
    "model=mode_analyze.n32_poly()\n",
    "ma_32=mode_analyze.ModeAnalyzer(model,'poly_32/poly32.n', n_min=0, n_max=10, ls=[2,3])\n",
    "\n",
    "\n",
    "MM='1'\n",
    "loc='/home/aleksey/Dropbox/'\n",
    "base=loc+'mesa_projects/{0}Msun_tau1/'.format(MM)\n",
    "prof=mode_analyze.prep_mesa(base)\n",
    "\n",
    "ma_3b=mode_analyze.ModeAnalyzer(prof, '/home/aleksey/Dropbox/gyre_work/1Msun_chernov/{0}Msun.n'.format(MM), -105, 10, [2])\n",
    "\n"
   ]
  },
  {
   "cell_type": "code",
   "execution_count": null,
   "metadata": {
    "collapsed": true
   },
   "outputs": [],
   "source": [
    "ns=range(-18, 11)\n",
    "ls=[2, 3]\n",
    "\n",
    "for ll in ls:\n",
    "    for nn in ns:\n",
    "        tag=str(nn)+'_'+str(ll)\n",
    "        mode=ma_3.modes_dict[tag]\n",
    "        header='{0:d} {1:d} {2} {3}\\nx xi_r xi_h'.format(nn, ll, mode['omega'], mode['Q'])  \n",
    "        dat=np.transpose([mode['xs'], mode['xi_r'], mode['xi_h']])\n",
    "        np.savetxt('mode_summary_n3/mode_'+tag, dat,header=header)\n",
    "            "
   ]
  },
  {
   "cell_type": "code",
   "execution_count": null,
   "metadata": {
    "collapsed": true
   },
   "outputs": [],
   "source": [
    "ns=range(0, 11)\n",
    "ls=[2, 3]\n",
    "\n",
    "for ll in ls:\n",
    "    for nn in ns:\n",
    "        tag=str(nn)+'_'+str(ll)\n",
    "        mode=ma_32.modes_dict[tag]\n",
    "        header='{0:d} {1:d} {2} {3}\\nx xi_r xi_h'.format(nn, ll, mode['omega'], mode['Q'])  \n",
    "        dat=np.transpose([mode['xs'], mode['xi_r'], mode['xi_h']])\n",
    "        np.savetxt('mode_summary_n32/mode_'+tag, dat,header=header)"
   ]
  },
  {
   "cell_type": "code",
   "execution_count": null,
   "metadata": {
    "scrolled": false
   },
   "outputs": [],
   "source": [
    "from astropy.table import Table\n",
    "\n",
    "ns=range(0, 11)\n",
    "ls=[2]\n",
    "mode_summary_n32=np.empty([len(ns)*len(ls), 4])\n",
    "fig,ax=plt.subplots(figsize=(10,9))\n",
    "ax.set_xlabel(r'$\\omega$')\n",
    "ax.set_ylabel('log(Q)')\n",
    "# ax.set_ylim(1.0e-8, 1.0)\n",
    "\n",
    "Q1=ma_32.modes_dict['1_2']['Q']\n",
    "omega_1=ma_32.modes_dict['1_2']['omega']\n",
    "\n",
    "idx=0\n",
    "for ll in ls:\n",
    "    for nn in ns:\n",
    "        mode=ma_32.modes_dict[str(nn)+'_'+str(ll)]\n",
    "        mode_summary_n32[idx]=nn, ll, mode['omega'], mode['Q']\n",
    "        idx+=1\n",
    " \n",
    "compare=[0.4909, 0.05577, 0.01062, 0.002464, 6.154e-4, 1.543e-4]\n",
    "mode_summary_n32=Table(mode_summary_n32)\n",
    "#semilogy(mode_summary_n32['col0'],(mode_summary_n32['col2']/omega_1)**(17./6.)*Q1, '--')\n",
    "#semilogy(mode_summary_n32['col0'],np.exp(-0.95*(mode_summary_n32['col2']-omega_2))*Q2, '--')\n",
    "semilogx(mode_summary_n32['col2'],log10(np.abs(mode_summary_n32['col3'])), 's-', label='aleksey')\n",
    "semilogx(mode_summary_n32['col2'][:6], log10(np.abs(compare)), 'rs-', label='lee+ostriker1986')\n",
    "ax.legend()"
   ]
  },
  {
   "cell_type": "code",
   "execution_count": null,
   "metadata": {},
   "outputs": [],
   "source": [
    "from astropy.table import Table\n",
    "\n",
    "ns=range(-18, 11)\n",
    "nsb=range(-105, 11)\n",
    "ns=np.array(ns)\n",
    "nsb=np.array(nsb)\n",
    "\n",
    "ls=[2]\n",
    "mode_summary_n3=np.empty([len(ns)*len(ls), 5])\n",
    "mode_summary_n3b=np.empty([len(nsb)*len(ls), 5])\n",
    "\n",
    "fig,ax=plt.subplots(figsize=(10,9))\n",
    "ax.set_ylim(-5, 0.)\n",
    "ax.set_xlim(0.1, 20)\n",
    "ax.set_xlabel(r'$\\omega$')\n",
    "ax.set_ylabel('Q')\n",
    "\n",
    "idx=0\n",
    "Q1=ma_3.modes_dict['-4_2']['Q']\n",
    "omega_1=ma_3.modes_dict['-4_2']['omega']\n",
    "\n",
    "idx=0\n",
    "tot=0.\n",
    "for ll in ls:\n",
    "    for nn in ns:\n",
    "        mode=ma_3.modes_dict[str(nn)+'_'+str(ll)]\n",
    "        mode_summary_n3[idx]=nn, ll, mode['omega'], mode['Q'], mode['xi_r'][-1]\n",
    "        tot+=mode['Q']**2.\n",
    "        idx+=1\n",
    "idx=0   \n",
    "totb=0.\n",
    "for ll in ls:\n",
    "    for nn in nsb:\n",
    "        mode=ma_3b.modes_dict[str(nn)+'_'+str(ll)]\n",
    "        mode_summary_n3b[idx]=nn, ll, mode['omega'], mode['Q'], mode['xi_r'][-1]\n",
    "        totb+=mode['Q']**2.\n",
    "        idx+=1\n",
    " \n",
    "compare=[1.894e-3, 2.7e-3, 4.121e-3, 6.263e-3, 9.442e-3, 1.492e-2, 2.470e-2, \n",
    "         4.457e-2, 9.955e-2, 0.2372, 0.1226, 0.06163, 0.03498, 0.0211, 0.01322]\n",
    "compare=np.array(compare)\n",
    "mode_summary_n3=Table(mode_summary_n3)\n",
    "mode_summary_n3b=Table(mode_summary_n3b)\n",
    "\n",
    "omegas=mode_summary_n3['col2']\n",
    "semilogx((mode_summary_n3['col2']),log10((mode_summary_n3['col2']/omega_1)**(17./6.)*Q1), '--',\\\n",
    "      label=r'$Q\\propto \\omega^{17/6}$')\n",
    "semilogx((mode_summary_n3['col2']),log10(mode_summary_n3['col3']), 's-', label='aleksey')\n",
    "# semilogx(omegas[omegas<2.], compare)\n",
    "#loglog(mode_summary_n3['col0'],np.exp(-0.95*(mode_summary_n3['col2']-omega_2)))\n",
    "#semilogy(mode_summary_n3['col0'][mode_summary_n3['col0']<0],(mode_summary_n3['col2'][mode_summary_n3['col0']<0]/omega_1)**(17./6.)*Q1, 'r--', label=r'$Q\\propto \\omega^{17/6}$')\n",
    "#loglog(mode_summary_n3['col0'],np.exp(omega_2-mode_summary_n3['col2'])*Q2, 'r--', label=r'exp')\n",
    "semilogx((mode_summary_n3['col2']),log10(mode_summary_n3['col3']), 's-', label='n=3')\n",
    "semilogx((mode_summary_n3b['col2']),log10(mode_summary_n3b['col3']), '-', label='Sun')\n",
    "\n",
    "semilogx(omegas[(ns>=-9) & (ns<=5)], log10(abs(compare)), 'rs', label='lee+ostriker1986')\n",
    "ax.legend()\n",
    "\n"
   ]
  },
  {
   "cell_type": "code",
   "execution_count": null,
   "metadata": {},
   "outputs": [],
   "source": [
    "from scipy.interpolate import InterpolatedUnivariateSpline as IUS\n",
    "\n",
    "v1=tot\n",
    "v2=10.*mode_analyze.log_integral(ma_3.rs[0], ma_3.rs[-1], ma_3.rs, ma_3.rs**4*ma_3.rhos)\n",
    "\n",
    "print (v2-v1)/v1*100."
   ]
  },
  {
   "cell_type": "code",
   "execution_count": null,
   "metadata": {},
   "outputs": [],
   "source": [
    "from scipy.interpolate import InterpolatedUnivariateSpline as IUS\n",
    "\n",
    "v1= totb\n",
    "v2= 10.*mode_analyze.log_integral(ma_3b.rs[0], ma_3b.rs[-1], ma_3b.rs, ma_3b.rs**4*ma_3b.rhos)\n",
    "\n",
    "print (v2-v1)/v1*100."
   ]
  },
  {
   "cell_type": "code",
   "execution_count": null,
   "metadata": {},
   "outputs": [],
   "source": [
    "from astropy.table import Table\n",
    "\n",
    "ns=range(0, 11)\n",
    "nsb=range(0, 11)\n",
    "ns=np.array(ns)\n",
    "nsb=np.array(nsb)\n",
    "\n",
    "ls=[2]\n",
    "mode_summary_n3=np.empty([len(ns)*len(ls), 7])\n",
    "mode_summary_n3b=np.empty([len(nsb)*len(ls), 7])\n",
    "\n",
    "fig,ax=plt.subplots(figsize=(10,9))\n",
    "ax.set_ylim(-2, 3.)\n",
    "ax.set_xlim(1, 20)\n",
    "ax.set_xlabel(r'$\\omega$')\n",
    "ax.set_ylabel(r'$Q \\xi_r|_{\\rm surface}$')\n",
    "\n",
    "idx=0\n",
    "Q1=ma_3.modes_dict['-4_2']['Q']\n",
    "omega_1=ma_3.modes_dict['-4_2']['omega']\n",
    "\n",
    "idx=0\n",
    "for ll in ls:\n",
    "    for nn in ns:\n",
    "        mode=ma_3.modes_dict[str(nn)+'_'+str(ll)]\n",
    "        mode_summary_n3[idx]=nn, ll, mode['omega'], mode['Q'], mode['xi_r'][-1], mode['Q_alt'],\\\n",
    "        mode_analyze.log_interp(0.999, mode['xs'], abs(mode['xi_r']))\n",
    "        idx+=1\n",
    "idx=0     \n",
    "for ll in ls:\n",
    "    for nn in nsb:\n",
    "        mode=ma_3b.modes_dict[str(nn)+'_'+str(ll)]\n",
    "        mode_summary_n3b[idx]=nn, ll, mode['omega'], mode['Q'], mode['xi_r'][-1], mode['Q_alt'],\\\n",
    "        mode_analyze.log_interp(0.999, mode['xs'], abs(mode['xi_r']))\n",
    "        idx+=1\n",
    " \n",
    "compare=[1.894e-3, 2.7e-3, 4.121e-3, 6.263e-3, 9.442e-3, 1.492e-2, 2.470e-2, \n",
    "         4.457e-2, 9.955e-2, 0.2372, 0.1226, 0.06163, 0.03498, 0.0211, 0.01322]\n",
    "compare=np.array(compare)\n",
    "mode_summary_n3=Table(mode_summary_n3)\n",
    "mode_summary_n3b=Table(mode_summary_n3b)\n",
    "\n",
    "omegas=mode_summary_n3['col2']\n",
    "\n",
    "semilogx((mode_summary_n3['col2']),log10(mode_summary_n3['col3']*mode_summary_n3['col4']), 's-', label='n=3')\n",
    "semilogx((mode_summary_n3b['col2']),log10(mode_summary_n3b['col3']*mode_summary_n3b['col4']), 's-', label='Sun')\n",
    "\n",
    "# semilogx(omegas[(ns>=-9) & (ns<=5)], log10(abs(compare)), 'rs', label='lee+ostriker1986')\n",
    "ax.legend()\n"
   ]
  },
  {
   "cell_type": "code",
   "execution_count": null,
   "metadata": {
    "scrolled": true
   },
   "outputs": [],
   "source": [
    "%pylab inline\n",
    "fig,ax=plt.subplots(figsize=(10,9))\n",
    "ax.set_ylim(1.0e-5, 3.)\n",
    "\n",
    "dat=np.genfromtxt('coupling_n3.csv',delimiter=',')\n",
    "order=np.argsort(dat[:,0])\n",
    "loglog(dat[:,0][order], dat[:,1][order])\n",
    "\n",
    "loglog(ma_3b.etas, ma_3b.tidal_coupling(2))\n",
    "# loglog(dat[:,0][order], dat[:,1][order], 'r--')\n",
    "loglog(ma_3.etas, ma_3.tidal_coupling(2), 'r--')"
   ]
  },
  {
   "cell_type": "code",
   "execution_count": null,
   "metadata": {},
   "outputs": [],
   "source": [
    "loglog(ma_3.modes_dict['0_2']['xs'], abs(ma_3.modes_dict['0_2']['xi_r']))"
   ]
  },
  {
   "cell_type": "code",
   "execution_count": null,
   "metadata": {
    "scrolled": true
   },
   "outputs": [],
   "source": [
    "%pylab inline\n",
    "fig,ax=plt.subplots(figsize=(10,9))\n",
    "\n",
    "dat=np.genfromtxt('coupling_n3.csv',delimiter=',')\n",
    "order=np.argsort(dat[:,0])\n",
    "\n",
    "loglog(ma_3.etas, Ts_3)\n",
    "loglog(dat[:,0][order], dat[:,1][order], 'r--')"
   ]
  },
  {
   "cell_type": "code",
   "execution_count": null,
   "metadata": {
    "collapsed": true
   },
   "outputs": [],
   "source": [
    "from scipy.interpolate import interp1d\n",
    "\n",
    "def phi(x):\n",
    "    return 2.*np.arctan(x)\n",
    "\n",
    "def t(x):\n",
    "    return x+x**3./3.\n",
    "\n",
    "xs=np.linspace(-1000, 1000, 100)\n",
    "m=2.\n",
    "l=2.\n",
    "t1=t(xs)\n",
    "\n",
    "tords=np.linspace(-1000, 1000, 500)\n",
    "xords=interp1d(t1, xs)(tords)\n",
    "\n",
    "out=np.fft.fft((1./(1+xords**2.))**(l+1.)*np.exp(phi(xords)*m*1.0j))"
   ]
  }
 ],
 "metadata": {
  "kernelspec": {
   "display_name": "Python 2",
   "language": "python",
   "name": "python2"
  },
  "language_info": {
   "codemirror_mode": {
    "name": "ipython",
    "version": 2
   },
   "file_extension": ".py",
   "mimetype": "text/x-python",
   "name": "python",
   "nbconvert_exporter": "python",
   "pygments_lexer": "ipython2",
   "version": "2.7.13"
  }
 },
 "nbformat": 4,
 "nbformat_minor": 2
}
